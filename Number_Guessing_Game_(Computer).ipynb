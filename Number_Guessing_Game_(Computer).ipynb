{
  "nbformat": 4,
  "nbformat_minor": 0,
  "metadata": {
    "colab": {
      "provenance": [],
      "include_colab_link": true
    },
    "kernelspec": {
      "name": "python3",
      "display_name": "Python 3"
    },
    "language_info": {
      "name": "python"
    }
  },
  "cells": [
    {
      "cell_type": "markdown",
      "metadata": {
        "id": "view-in-github",
        "colab_type": "text"
      },
      "source": [
        "<a href=\"https://colab.research.google.com/github/Aqsagull99/project_4/blob/main/Number_Guessing_Game_(Computer).ipynb\" target=\"_parent\"><img src=\"https://colab.research.google.com/assets/colab-badge.svg\" alt=\"Open In Colab\"/></a>"
      ]
    },
    {
      "cell_type": "markdown",
      "source": [
        "# **Number-Guessing-Game (Computer)**"
      ],
      "metadata": {
        "id": "lIQYj1KInJAf"
      }
    },
    {
      "cell_type": "markdown",
      "source": [],
      "metadata": {
        "id": "3MnK-0u0CAbM"
      }
    },
    {
      "cell_type": "code",
      "source": [
        "import random\n",
        "\n",
        "secret_number = random.randint(1, 10)\n",
        "print(\"🎯 I have selected a number between 1 and 10. Can you guess it? 🤔\")\n",
        "\n",
        "while True:\n",
        "    try:\n",
        "        guess = int(input(\"🔢 Enter your guess: \"))\n",
        "\n",
        "        if guess < secret_number:\n",
        "            print(\"📉 Too low! Try again. 🔄\")\n",
        "        elif guess > secret_number:\n",
        "            print(\"📈 Too high! Try again. 🔄\")\n",
        "        else:\n",
        "            print(f\"🎉 Correct! The number was {secret_number}. You guessed it! 🏆✨\")\n",
        "            break\n",
        "    except ValueError:\n",
        "        print(\"⚠️ Please enter a valid number! 🚫\")\n"
      ],
      "metadata": {
        "id": "ob3-hV0Onlxn",
        "outputId": "523e0dec-7497-4c95-89aa-458fda4b733b",
        "colab": {
          "base_uri": "https://localhost:8080/"
        }
      },
      "execution_count": null,
      "outputs": [
        {
          "output_type": "stream",
          "name": "stdout",
          "text": [
            "🎯 I have selected a number between 1 and 10. Can you guess it? 🤔\n",
            "🔢 Enter your guess: 2\n",
            "📉 Too low! Try again. 🔄\n",
            "🔢 Enter your guess: 6\n",
            "📉 Too low! Try again. 🔄\n",
            "🔢 Enter your guess: 7\n",
            "🎉 Correct! The number was 7. You guessed it! 🏆✨\n"
          ]
        }
      ]
    }
  ]
}