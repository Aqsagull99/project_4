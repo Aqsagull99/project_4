{
  "nbformat": 4,
  "nbformat_minor": 0,
  "metadata": {
    "colab": {
      "provenance": [],
      "authorship_tag": "ABX9TyMlX0N3Yf0nUNz5Xwa4S+3T",
      "include_colab_link": true
    },
    "kernelspec": {
      "name": "python3",
      "display_name": "Python 3"
    },
    "language_info": {
      "name": "python"
    }
  },
  "cells": [
    {
      "cell_type": "markdown",
      "metadata": {
        "id": "view-in-github",
        "colab_type": "text"
      },
      "source": [
        "<a href=\"https://colab.research.google.com/github/Aqsagull99/project_4/blob/main/Tic_Tac_Toe.ipynb\" target=\"_parent\"><img src=\"https://colab.research.google.com/assets/colab-badge.svg\" alt=\"Open In Colab\"/></a>"
      ]
    },
    {
      "cell_type": "code",
      "source": [
        "import numpy as np\n",
        "import re\n",
        "from colorama import Fore, Style, init\n",
        "\n",
        "# Initialize colorama\n",
        "init()\n",
        "\n",
        "size = 3  # Change this for bigger grids\n",
        "\n",
        "# Colors for X and O\n",
        "X_COLOR = Fore.RED + \"X\" + Style.RESET_ALL  # Red X\n",
        "O_COLOR = Fore.BLUE + \"O\" + Style.RESET_ALL  # Blue O\n",
        "\n",
        "# Initialize board\n",
        "board = np.array([[\" \" for _ in range(size)] for _ in range(size)])\n",
        "\n",
        "# Function to print board with colors\n",
        "def print_board():\n",
        "    for row in board:\n",
        "        print(\" | \".join(row))\n",
        "        print(\"-\" * (size * 4 - 1))\n",
        "\n",
        "# Check winner\n",
        "def check_winner(player):\n",
        "    for i in range(size):\n",
        "        if all(board[i, :] == player) or all(board[:, i] == player):\n",
        "            return True\n",
        "    if all(board.diagonal() == player) or all(np.fliplr(board).diagonal() == player):\n",
        "        return True\n",
        "    return False\n",
        "\n",
        "# Check draw\n",
        "def is_draw():\n",
        "    return \" \" not in board\n",
        "\n",
        "# Get valid input\n",
        "def get_valid_input():\n",
        "    while True:\n",
        "        user_input = input(f\"Enter row and column (0-{size-1}) separated by space: \").strip()\n",
        "\n",
        "        if re.match(r\"^\\d+\\s+\\d+$\", user_input):\n",
        "            row, col = map(int, user_input.split())\n",
        "\n",
        "            if 0 <= row < size and 0 <= col < size:\n",
        "                if board[row, col] == \" \":\n",
        "                    return row, col\n",
        "                else:\n",
        "                    print(\"⚠️ Cell already taken, try again!\")\n",
        "            else:\n",
        "                print(f\"⚠️ Invalid input! Enter row and column between 0 and {size-1}.\")\n",
        "        else:\n",
        "            print(f\"⚠️ Invalid format! Enter numbers like: `0 1`\")\n",
        "\n",
        "# Main game loop\n",
        "def play_game():\n",
        "    print(f\"Welcome to {size}x{size} Tic-Tac-Toe! 🎮\")\n",
        "    print_board()\n",
        "    players = [X_COLOR, O_COLOR]  # Colored X and O\n",
        "    turn = 0\n",
        "\n",
        "    while True:\n",
        "        player = players[turn % 2]\n",
        "        print(f\"Player {Fore.RED if player == X_COLOR else Fore.BLUE}{'X' if player == X_COLOR else 'O'}{Style.RESET_ALL}'s turn.\")\n",
        "\n",
        "        row, col = get_valid_input()\n",
        "        board[row, col] = player\n",
        "        print_board()\n",
        "\n",
        "        if check_winner(player):\n",
        "            print(f\"🎉 Player {Fore.RED if player == X_COLOR else Fore.BLUE}{'X' if player == X_COLOR else 'O'}{Style.RESET_ALL} wins! 🎉\")\n",
        "            break\n",
        "\n",
        "        if is_draw():\n",
        "            print(\"It's a Draw! 🤝\")\n",
        "            break\n",
        "\n",
        "        turn += 1\n",
        "\n",
        "play_game()\n"
      ],
      "metadata": {
        "colab": {
          "base_uri": "https://localhost:8080/"
        },
        "id": "2gg5ppRQsZlC",
        "outputId": "83379ab2-f462-44cd-d289-ef92645cba29"
      },
      "execution_count": null,
      "outputs": [
        {
          "output_type": "stream",
          "name": "stdout",
          "text": [
            "Welcome to 3x3 Tic-Tac-Toe! 🎮\n",
            "  |   |  \n",
            "-----------\n",
            "  |   |  \n",
            "-----------\n",
            "  |   |  \n",
            "-----------\n",
            "Player X's turn.\n",
            "Enter row and column (0-2) separated by space: 2 1\n",
            "  |   |  \n",
            "-----------\n",
            "  |   |  \n",
            "-----------\n",
            "  | \u001b |  \n",
            "-----------\n",
            "Player O's turn.\n",
            "Enter row and column (0-2) separated by space: 1 2\n",
            "  |   |  \n",
            "-----------\n",
            "  |   | \u001b\n",
            "-----------\n",
            "  | \u001b |  \n",
            "-----------\n",
            "Player X's turn.\n"
          ]
        }
      ]
    },
    {
      "cell_type": "code",
      "source": [
        "!pip install colorama\n"
      ],
      "metadata": {
        "colab": {
          "base_uri": "https://localhost:8080/"
        },
        "id": "seLZnLa8smf7",
        "outputId": "11d47781-d462-4d3b-df4a-cc20d2910343"
      },
      "execution_count": 5,
      "outputs": [
        {
          "output_type": "stream",
          "name": "stdout",
          "text": [
            "Collecting colorama\n",
            "  Downloading colorama-0.4.6-py2.py3-none-any.whl.metadata (17 kB)\n",
            "Downloading colorama-0.4.6-py2.py3-none-any.whl (25 kB)\n",
            "Installing collected packages: colorama\n",
            "Successfully installed colorama-0.4.6\n"
          ]
        }
      ]
    }
  ]
}