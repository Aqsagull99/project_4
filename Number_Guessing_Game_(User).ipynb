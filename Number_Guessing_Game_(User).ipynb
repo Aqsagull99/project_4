{
  "nbformat": 4,
  "nbformat_minor": 0,
  "metadata": {
    "colab": {
      "provenance": [],
      "include_colab_link": true
    },
    "kernelspec": {
      "name": "python3",
      "display_name": "Python 3"
    },
    "language_info": {
      "name": "python"
    }
  },
  "cells": [
    {
      "cell_type": "markdown",
      "metadata": {
        "id": "view-in-github",
        "colab_type": "text"
      },
      "source": [
        "<a href=\"https://colab.research.google.com/github/Aqsagull99/project_4/blob/main/Number_Guessing_Game_(User).ipynb\" target=\"_parent\"><img src=\"https://colab.research.google.com/assets/colab-badge.svg\" alt=\"Open In Colab\"/></a>"
      ]
    },
    {
      "cell_type": "markdown",
      "source": [
        "# **Number-Guessing-Game (User)**"
      ],
      "metadata": {
        "id": "gEw0IBBgocs0"
      }
    },
    {
      "cell_type": "code",
      "execution_count": null,
      "metadata": {
        "colab": {
          "base_uri": "https://localhost:8080/"
        },
        "id": "FOI7nlGFoVCC",
        "outputId": "fe0a6e4f-4102-4523-a0bb-e7f38dbc8c35"
      },
      "outputs": [
        {
          "output_type": "stream",
          "name": "stdout",
          "text": [
            "🤔 Think of a number between 1 and 10, and I will try to guess it!\n",
            "🤖 Is your number 9?\n",
            "👉 Enter 'h' if too high, 'l' if too low, or 'c' if correct: h\n",
            "🤖 Is your number 8?\n",
            "👉 Enter 'h' if too high, 'l' if too low, or 'c' if correct: h\n",
            "🤖 Is your number 1?\n",
            "👉 Enter 'h' if too high, 'l' if too low, or 'c' if correct: l\n",
            "🤖 Is your number 6?\n",
            "👉 Enter 'h' if too high, 'l' if too low, or 'c' if correct: h\n",
            "🤖 Is your number 4?\n",
            "👉 Enter 'h' if too high, 'l' if too low, or 'c' if correct: h\n",
            "🤖 Is your number 2?\n",
            "👉 Enter 'h' if too high, 'l' if too low, or 'c' if correct: c\n",
            "🎉 Yay! I guessed your number 2 correctly. 🏆\n"
          ]
        }
      ],
      "source": [
        "import random\n",
        "\n",
        "low = 1\n",
        "high = 10\n",
        "\n",
        "print(\"🤔 Think of a number between 1 and 10, and I will try to guess it!\")\n",
        "\n",
        "while low <= high:\n",
        "    guess = random.randint(low, high)\n",
        "    print(f\"🤖 Is your number {guess}?\")\n",
        "\n",
        "    feedback = input(\"👉 Enter 'h' if too high, 'l' if too low, or 'c' if correct: \").lower()\n",
        "\n",
        "    if feedback == \"h\":\n",
        "        high = guess - 1\n",
        "    elif feedback == \"l\":\n",
        "        low = guess + 1\n",
        "    elif feedback == \"c\":\n",
        "        print(f\"🎉 Yay! I guessed your number {guess} correctly. 🏆\")\n",
        "        break\n",
        "    else:\n",
        "        print(\"⚠️ Invalid input. Please enter only 'h', 'l', or 'c'. 🚫\")\n",
        "\n",
        "if low > high:\n",
        "    print(\"😅 Hmm... It seems there was a misunderstanding. Let's try again! 🔄\")\n"
      ]
    }
  ]
}