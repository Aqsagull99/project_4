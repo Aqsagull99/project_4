{
  "nbformat": 4,
  "nbformat_minor": 0,
  "metadata": {
    "colab": {
      "provenance": [],
      "authorship_tag": "ABX9TyNvXo8lYhF+X90ivLgrLDBc",
      "include_colab_link": true
    },
    "kernelspec": {
      "name": "python3",
      "display_name": "Python 3"
    },
    "language_info": {
      "name": "python"
    }
  },
  "cells": [
    {
      "cell_type": "markdown",
      "metadata": {
        "id": "view-in-github",
        "colab_type": "text"
      },
      "source": [
        "<a href=\"https://colab.research.google.com/github/Aqsagull99/project_4/blob/main/mad_libs.ipynb\" target=\"_parent\"><img src=\"https://colab.research.google.com/assets/colab-badge.svg\" alt=\"Open In Colab\"/></a>"
      ]
    },
    {
      "cell_type": "code",
      "execution_count": null,
      "metadata": {
        "colab": {
          "base_uri": "https://localhost:8080/"
        },
        "id": "PJmXrDNoK67A",
        "outputId": "80265951-ffb5-41b3-c02d-0b11d9feb054"
      },
      "outputs": [
        {
          "output_type": "stream",
          "name": "stdout",
          "text": [
            "\u001b[96m\n",
            "🎭 Welcome to the Ultimate Mad Libs Game! 🎭\u001b[0m\n",
            "\u001b[93mGet ready to create an unpredictable and hilarious story! 🎉\u001b[0m\n"
          ]
        }
      ],
      "source": [
        "import time\n",
        "import random\n",
        "import sys\n",
        "\n",
        "def type_effect(text, delay=0.05):\n",
        "    \"\"\"Simulates typing effect.\"\"\"\n",
        "    for char in text:\n",
        "        sys.stdout.write(char)\n",
        "        sys.stdout.flush()\n",
        "        time.sleep(delay)\n",
        "    print()\n",
        "\n",
        "def mad_libs():\n",
        "    print(\"\\033[96m\\n🎭 Welcome to the Ultimate Mad Libs Game! 🎭\\033[0m\")\n",
        "    time.sleep(1)\n",
        "\n",
        "    print(\"\\033[93mGet ready to create an unpredictable and hilarious story! 🎉\\033[0m\")\n",
        "    time.sleep(1)\n",
        "\n",
        "    # User inputs with added variety\n",
        "    noun = input(\"\\033[92mEnter a noun (person, place, or thing): \\033[0m\")\n",
        "    adjective = input(\"\\033[94mEnter an adjective (describes something): \\033[0m\")\n",
        "    verb = input(\"\\033[95mEnter a verb (action word): \\033[0m\")\n",
        "    place = input(\"\\033[93mEnter a place: \\033[0m\")\n",
        "    animal = input(\"\\033[96mEnter an animal: \\033[0m\")\n",
        "    emotion = input(\"\\033[91mEnter an emotion: \\033[0m\")\n",
        "    food = input(\"\\033[92mEnter a favorite food: \\033[0m\")\n",
        "    object = input(\"\\033[94mEnter a random object: \\033[0m\")\n",
        "\n",
        "    print(\"\\n\\033[96m📖 Generating a fun and exciting story just for you...\\033[0m\")\n",
        "    time.sleep(2)\n",
        "\n",
        "    # List of random story templates\n",
        "    stories = [\n",
        "        f\"\"\"\n",
        "        One fine day in \\033[93m{place}\\033[0m, a \\033[92m{noun}\\033[0m was feeling very \\033[91m{emotion}\\033[0m.\n",
        "        To cheer up, it decided to \\033[95m{verb}\\033[0m while holding a \\033[94m{object}\\033[0m.\n",
        "        Suddenly, a \\033[96m{animal}\\033[0m appeared and stole its \\033[92m{food}\\033[0m!\n",
        "        \"No! My precious \\033[92m{food}\\033[0m!\" cried the \\033[92m{noun}\\033[0m, chasing the \\033[96m{animal}\\033[0m.\n",
        "        Will it get its \\033[92m{food}\\033[0m back? Only time will tell... 🍽️🐾\n",
        "        \"\"\",\n",
        "        f\"\"\"\n",
        "        In the magical land of \\033[93m{place}\\033[0m, there was a \\033[92m{noun}\\033[0m known for its \\033[94m{adjective}\\033[0m nature.\n",
        "        It loved to \\033[95m{verb}\\033[0m every day while eating \\033[92m{food}\\033[0m.\n",
        "        One day, a talking \\033[96m{animal}\\033[0m appeared, looking \\033[91m{emotion}\\033[0m!\n",
        "        It handed the \\033[92m{noun}\\033[0m a magical \\033[94m{object}\\033[0m that could change the world.\n",
        "        What will happen next? The adventure begins! ✨\n",
        "        \"\"\",\n",
        "        f\"\"\"\n",
        "        Deep in \\033[93m{place}\\033[0m, a lonely \\033[92m{noun}\\033[0m found a mysterious \\033[94m{object}\\033[0m.\n",
        "        As soon as it touched the \\033[94m{object}\\033[0m, a \\033[96m{animal}\\033[0m appeared!\n",
        "        \"I am the guardian of \\033[92m{food}\\033[0m!\" it roared, looking \\033[91m{emotion}\\033[0m.\n",
        "        The \\033[92m{noun}\\033[0m had to \\033[95m{verb}\\033[0m to prove its worth.\n",
        "        Did it succeed? Only the stars know... ⭐🔮\n",
        "        \"\"\"\n",
        "    ]\n",
        "\n",
        "    # Select a random story template\n",
        "    selected_story = random.choice(stories)\n",
        "\n",
        "    # Print story with typewriter effect\n",
        "    type_effect(selected_story)\n",
        "\n",
        "    print(\"\\033[92m🎊 Thank you for playing Ultimate Mad Libs! Play again for a new story! 🎊\\033[0m\")\n",
        "\n",
        "    # Ask if the player wants to play again\n",
        "    play_again = input(\"\\033[93mDo you want to play again? (yes/no): \\033[0m\").strip().lower()\n",
        "    if play_again == 'yes':\n",
        "        mad_libs()\n",
        "    else:\n",
        "        print(\"\\033[96mGoodbye! See you next time! 👋\\033[0m\")\n",
        "        time.sleep(1)\n",
        "\n",
        "# Run the game\n",
        "mad_libs()"
      ]
    }
  ]
}