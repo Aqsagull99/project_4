{
  "nbformat": 4,
  "nbformat_minor": 0,
  "metadata": {
    "colab": {
      "provenance": [],
      "authorship_tag": "ABX9TyOTHihcWSiqS7cXF+WErEiC",
      "include_colab_link": true
    },
    "kernelspec": {
      "name": "python3",
      "display_name": "Python 3"
    },
    "language_info": {
      "name": "python"
    }
  },
  "cells": [
    {
      "cell_type": "markdown",
      "metadata": {
        "id": "view-in-github",
        "colab_type": "text"
      },
      "source": [
        "<a href=\"https://colab.research.google.com/github/Aqsagull99/project_4/blob/main/Password_Generator_.ipynb\" target=\"_parent\"><img src=\"https://colab.research.google.com/assets/colab-badge.svg\" alt=\"Open In Colab\"/></a>"
      ]
    },
    {
      "cell_type": "code",
      "source": [
        "import random\n",
        "import string\n",
        "\n",
        "def generate_password(length):\n",
        "    \"\"\"Generate a random password of given length.\"\"\"\n",
        "    characters = string.ascii_letters + string.digits + string.punctuation\n",
        "    return ''.join(random.choice(characters) for _ in range(length))\n",
        "\n",
        "def get_valid_input(prompt):\n",
        "    \"\"\"Get valid integer input from the user.\"\"\"\n",
        "    while True:\n",
        "        user_input = input(prompt)\n",
        "        if user_input.isdigit() and int(user_input) > 0:\n",
        "            return int(user_input)\n",
        "        else:\n",
        "            print(\"\\n[ERROR] Invalid input! Please enter a positive number.\\n\")\n",
        "\n",
        "while True:\n",
        "    print(\"=\" * 40)\n",
        "    print(\"      RANDOM PASSWORD GENERATOR\")\n",
        "    print(\"=\" * 40)\n",
        "\n",
        "    num_passwords = get_valid_input(\"\\nEnter the number of passwords to generate: \")\n",
        "    length = get_valid_input(\"Enter the length of each password: \")\n",
        "\n",
        "    print(\"\\n\" + \"-\" * 30)\n",
        "    print(\"      GENERATED PASSWORDS\")\n",
        "    print(\"-\" * 30)\n",
        "\n",
        "    for i in range(num_passwords):\n",
        "        print(f\"{i+1}. {generate_password(length)}\")\n",
        "\n",
        "    print(\"\\n\" + \"=\" * 40)\n",
        "    print(\"      PASSWORD GENERATION COMPLETE\")\n",
        "    print(\"=\" * 40)\n",
        "\n",
        "    # Ask user if they want to generate more passwords\n",
        "    again = input(\"\\nDo you want to generate more passwords? (yes/no): \").strip().lower()\n",
        "    if again != \"yes\":\n",
        "        print(\"\\nThank you for using the Password Generator! Goodbye 👋\")\n",
        "        break"
      ],
      "metadata": {
        "id": "nv4WKqxrukmz",
        "colab": {
          "base_uri": "https://localhost:8080/"
        },
        "outputId": "c6cdeb71-c691-4e4e-fc5d-85793ea76943"
      },
      "execution_count": null,
      "outputs": [
        {
          "output_type": "stream",
          "name": "stdout",
          "text": [
            "========================================\n",
            "      RANDOM PASSWORD GENERATOR\n",
            "========================================\n"
          ]
        }
      ]
    }
  ]
}