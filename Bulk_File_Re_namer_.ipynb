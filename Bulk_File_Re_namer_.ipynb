{
  "nbformat": 4,
  "nbformat_minor": 0,
  "metadata": {
    "colab": {
      "provenance": [],
      "authorship_tag": "ABX9TyPbEFI9CbtZNYLWgI28s335",
      "include_colab_link": true
    },
    "kernelspec": {
      "name": "python3",
      "display_name": "Python 3"
    },
    "language_info": {
      "name": "python"
    }
  },
  "cells": [
    {
      "cell_type": "markdown",
      "metadata": {
        "id": "view-in-github",
        "colab_type": "text"
      },
      "source": [
        "<a href=\"https://colab.research.google.com/github/Aqsagull99/project_4/blob/main/Bulk_File_Re_namer_.ipynb\" target=\"_parent\"><img src=\"https://colab.research.google.com/assets/colab-badge.svg\" alt=\"Open In Colab\"/></a>"
      ]
    },
    {
      "cell_type": "code",
      "source": [
        "import os\n",
        "\n",
        "def bulk_rename(folder_path, prefix=\"\", suffix=\"\", replace_text=None, new_text=None, change_ext=None):\n",
        "    if not os.path.exists(folder_path):\n",
        "        print(\"Error: Folder path does not exist.\")\n",
        "        return\n",
        "\n",
        "    files = os.listdir(folder_path)\n",
        "    if not files:\n",
        "        print(\"No files found in the folder.\")\n",
        "        return\n",
        "\n",
        "    for filename in files:\n",
        "        old_path = os.path.join(folder_path, filename)\n",
        "\n",
        "        if not os.path.isfile(old_path):  # Skip folders\n",
        "            continue\n",
        "\n",
        "        name, ext = os.path.splitext(filename)\n",
        "\n",
        "        # Apply changes\n",
        "        new_name = f\"{prefix}{name}{suffix}\"\n",
        "        if replace_text and new_text:\n",
        "            new_name = new_name.replace(replace_text, new_text)\n",
        "        if change_ext:\n",
        "            ext = change_ext  # Change file extension\n",
        "\n",
        "        new_filename = new_name + ext\n",
        "        new_path = os.path.join(folder_path, new_filename)\n",
        "\n",
        "        # Rename file\n",
        "        os.rename(old_path, new_path)\n",
        "        print(f\"Renamed: {filename} → {new_filename}\")\n",
        "\n",
        "# Example Usage\n",
        "folder = input(\"Enter folder path: \")\n",
        "prefix = input(\"Enter prefix (leave empty if none): \")\n",
        "suffix = input(\"Enter suffix (leave empty if none): \")\n",
        "replace_text = input(\"Enter text to replace (leave empty if none): \") or None\n",
        "new_text = input(\"Enter new text (leave empty if none): \") or None\n",
        "change_ext = input(\"Enter new file extension (leave empty if none): \") or None\n",
        "\n",
        "# Ensure correct extension format\n",
        "if change_ext and not change_ext.startswith(\".\"):\n",
        "    change_ext = \".\" + change_ext\n",
        "\n",
        "bulk_rename(folder, prefix, suffix, replace_text, new_text, change_ext)\n"
      ],
      "metadata": {
        "id": "5yiYbg1x_8fE"
      },
      "execution_count": null,
      "outputs": []
    }
  ]
}