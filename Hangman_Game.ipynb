{
  "nbformat": 4,
  "nbformat_minor": 0,
  "metadata": {
    "colab": {
      "provenance": [],
      "authorship_tag": "ABX9TyMXNc/2uTAkVQty5KWbirjj",
      "include_colab_link": true
    },
    "kernelspec": {
      "name": "python3",
      "display_name": "Python 3"
    },
    "language_info": {
      "name": "python"
    }
  },
  "cells": [
    {
      "cell_type": "markdown",
      "metadata": {
        "id": "view-in-github",
        "colab_type": "text"
      },
      "source": [
        "<a href=\"https://colab.research.google.com/github/Aqsagull99/project_4/blob/main/Hangman_Game.ipynb\" target=\"_parent\"><img src=\"https://colab.research.google.com/assets/colab-badge.svg\" alt=\"Open In Colab\"/></a>"
      ]
    },
    {
      "cell_type": "code",
      "source": [
        "import random\n",
        "import string\n",
        "import colorama\n",
        "from colorama import Fore, Style\n",
        "\n",
        "colorama.init(autoreset=True)\n",
        "\n",
        "# Word list expanded\n",
        "words = [\n",
        "    \"python\", \"hangman\", \"developer\", \"programming\", \"challenge\",\n",
        "    \"software\", \"engineer\", \"computer\", \"keyboard\", \"monitor\",\n",
        "    \"laptop\", \"network\", \"internet\", \"database\", \"algorithm\"\n",
        "]\n",
        "\n",
        "# Function to get a random word\n",
        "def get_word():\n",
        "    return random.choice(words).upper()\n",
        "\n",
        "# Function to play Hangman\n",
        "def play():\n",
        "    word = get_word()\n",
        "    word_letters = set(word)  # Unique letters in word\n",
        "    alphabet = set(string.ascii_uppercase)\n",
        "    used_letters = set()  # Track guessed letters\n",
        "    attempts = 6  # Maximum incorrect guesses\n",
        "\n",
        "    print(Fore.YELLOW + \"Welcome to Hangman! 🎉\\n\")\n",
        "\n",
        "    while len(word_letters) > 0 and attempts > 0:\n",
        "        print(Fore.CYAN + f\"\\nYou have {attempts} attempts left.\")\n",
        "        print(\"Used letters: \", \" \".join(Fore.RED + letter for letter in used_letters))\n",
        "\n",
        "        # Display current word progress\n",
        "        word_display = [letter if letter in used_letters else \"_\" for letter in word]\n",
        "        print(Fore.GREEN + \"Current word: \" + \" \".join(word_display))\n",
        "\n",
        "        # User input\n",
        "        guess = input(Fore.BLUE + \"\\nGuess a letter: \").upper()\n",
        "\n",
        "        if guess in alphabet - used_letters:\n",
        "            used_letters.add(guess)\n",
        "            if guess in word_letters:\n",
        "                word_letters.remove(guess)\n",
        "                print(Fore.GREEN + \"Correct!\")\n",
        "            else:\n",
        "                attempts -= 1\n",
        "                print(Fore.RED + \"Wrong guess!\")\n",
        "        elif guess in used_letters:\n",
        "            print(Fore.MAGENTA + \"You already guessed that letter!\")\n",
        "        else:\n",
        "            print(Fore.YELLOW + \"Invalid input! Try again.\")\n",
        "\n",
        "    # End of game\n",
        "    if attempts == 0:\n",
        "        print(Fore.RED + f\"\\nYou lost! The word was {word}.\")\n",
        "    else:\n",
        "        print(Fore.GREEN + f\"\\nCongratulations! You guessed the word {word}! 🎉\")\n",
        "\n",
        "# Main loop to play again\n",
        "while True:\n",
        "    play()\n",
        "    again = input(Fore.CYAN + \"\\nDo you want to play again? (yes/no): \").strip().lower()\n",
        "    if again != \"yes\":\n",
        "        print(Fore.YELLOW + \"Thanks for playing! Goodbye! 👋\")\n",
        "        break"
      ],
      "metadata": {
        "id": "r4F9sieToACq"
      },
      "execution_count": null,
      "outputs": []
    },
    {
      "cell_type": "code",
      "source": [
        "!pip install colorama"
      ],
      "metadata": {
        "id": "KytAKa5ZoRUH"
      },
      "execution_count": null,
      "outputs": []
    }
  ]
}