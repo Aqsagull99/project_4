{
  "nbformat": 4,
  "nbformat_minor": 0,
  "metadata": {
    "colab": {
      "provenance": [],
      "authorship_tag": "ABX9TyOW+L2c2ivBuD9uRsWwdhFc",
      "include_colab_link": true
    },
    "kernelspec": {
      "name": "python3",
      "display_name": "Python 3"
    },
    "language_info": {
      "name": "python"
    }
  },
  "cells": [
    {
      "cell_type": "markdown",
      "metadata": {
        "id": "view-in-github",
        "colab_type": "text"
      },
      "source": [
        "<a href=\"https://colab.research.google.com/github/Aqsagull99/project_4/blob/main/Rock_Paper_Scissors_game.ipynb\" target=\"_parent\"><img src=\"https://colab.research.google.com/assets/colab-badge.svg\" alt=\"Open In Colab\"/></a>"
      ]
    },
    {
      "cell_type": "code",
      "execution_count": null,
      "metadata": {
        "colab": {
          "base_uri": "https://localhost:8080/"
        },
        "id": "Hd4QyKNVp3V7",
        "outputId": "0a30e24f-b052-48c9-d5b4-1e476439dc0a"
      },
      "outputs": [
        {
          "output_type": "stream",
          "name": "stdout",
          "text": [
            "\u001b[94m🎮 Welcome to Rock, Paper, Scissors! 🎮\u001b[0m\n"
          ]
        }
      ],
      "source": [
        "import random\n",
        "import time\n",
        "\n",
        "# Colors for better UI\n",
        "colors = {\n",
        "    \"red\": \"\\033[91m\",\n",
        "    \"green\": \"\\033[92m\",\n",
        "    \"blue\": \"\\033[94m\",\n",
        "    \"yellow\": \"\\033[93m\",\n",
        "    \"reset\": \"\\033[0m\"\n",
        "}\n",
        "\n",
        "# Game options\n",
        "choices = [\"rock\", \"paper\", \"scissors\"]\n",
        "\n",
        "def play_game():\n",
        "    print(f\"{colors['blue']}🎮 Welcome to Rock, Paper, Scissors! 🎮{colors['reset']}\")\n",
        "    time.sleep(1)\n",
        "\n",
        "    while True:\n",
        "        # User choice\n",
        "        user_choice = input(f\"{colors['yellow']}Enter rock, paper, or scissors: {colors['reset']}\").lower()\n",
        "\n",
        "        if user_choice not in choices:\n",
        "            print(f\"{colors['red']}Invalid choice! Please choose again.{colors['reset']}\")\n",
        "            continue\n",
        "\n",
        "        # Computer choice\n",
        "        computer_choice = random.choice(choices)\n",
        "        print(f\"\\n{colors['green']}Computer chose: {computer_choice}{colors['reset']}\")\n",
        "\n",
        "        # Game logic\n",
        "        if user_choice == computer_choice:\n",
        "            print(f\"{colors['yellow']}It's a tie! 🤝{colors['reset']}\")\n",
        "        elif (user_choice == \"rock\" and computer_choice == \"scissors\") or \\\n",
        "             (user_choice == \"scissors\" and computer_choice == \"paper\") or \\\n",
        "             (user_choice == \"paper\" and computer_choice == \"rock\"):\n",
        "            print(f\"{colors['green']}You win! 🎉{colors['reset']}\")\n",
        "        else:\n",
        "            print(f\"{colors['red']}You lose! 😢{colors['reset']}\")\n",
        "\n",
        "        # Play again?\n",
        "        play_again = input(f\"{colors['blue']}Do you want to play again? (yes/no): {colors['reset']}\").lower()\n",
        "        if play_again != \"yes\":\n",
        "            print(f\"{colors['green']}Thanks for playing! Goodbye! 👋{colors['reset']}\")\n",
        "            break\n",
        "\n",
        "# Run the game\n",
        "play_game()"
      ]
    }
  ]
}