{
  "nbformat": 4,
  "nbformat_minor": 0,
  "metadata": {
    "colab": {
      "provenance": [],
      "authorship_tag": "ABX9TyMo7XyuO7JzBEj4TORTV08l",
      "include_colab_link": true
    },
    "kernelspec": {
      "name": "python3",
      "display_name": "Python 3"
    },
    "language_info": {
      "name": "python"
    }
  },
  "cells": [
    {
      "cell_type": "markdown",
      "metadata": {
        "id": "view-in-github",
        "colab_type": "text"
      },
      "source": [
        "<a href=\"https://colab.research.google.com/github/Aqsagull99/project_4/blob/main/Weather_Program_.ipynb\" target=\"_parent\"><img src=\"https://colab.research.google.com/assets/colab-badge.svg\" alt=\"Open In Colab\"/></a>"
      ]
    },
    {
      "cell_type": "code",
      "execution_count": 8,
      "metadata": {
        "colab": {
          "base_uri": "https://localhost:8080/"
        },
        "id": "sU9rc0YRA5C1",
        "outputId": "cc48b9d7-c090-415a-e975-2bf41a326c55"
      },
      "outputs": [
        {
          "output_type": "stream",
          "name": "stdout",
          "text": [
            "Enter city name: karachi\n",
            "\n",
            "Weather Details:\n",
            "City: Karachi\n",
            "Temperature: 33.9°C\n",
            "Humidity: 18%\n",
            "Weather: Clear Sky\n",
            "Wind Speed: 3.09 m/s\n"
          ]
        }
      ],
      "source": [
        "import requests\n",
        "\n",
        "API_KEY = \"36dde0664d50abbcfa13793188f438d2\"  # Replace with your OpenWeatherMap API key\n",
        "BASE_URL = \"http://api.openweathermap.org/data/2.5/weather\"\n",
        "\n",
        "def get_weather(city):\n",
        "    params = {\"q\": city, \"appid\": API_KEY, \"units\": \"metric\"}  # Use \"imperial\" for Fahrenheit\n",
        "    response = requests.get(BASE_URL, params=params)\n",
        "\n",
        "    if response.status_code == 200:\n",
        "        data = response.json()\n",
        "        weather_info = {\n",
        "            \"City\": data[\"name\"],\n",
        "            \"Temperature\": f\"{data['main']['temp']}°C\",\n",
        "            \"Humidity\": f\"{data['main']['humidity']}%\",\n",
        "            \"Weather\": data[\"weather\"][0][\"description\"].title(),\n",
        "            \"Wind Speed\": f\"{data['wind']['speed']} m/s\"\n",
        "        }\n",
        "        return weather_info\n",
        "    else:\n",
        "        return f\"Error: {response.json().get('message', 'Unable to fetch weather data')}\"\n",
        "\n",
        "# User input\n",
        "city_name = input(\"Enter city name: \")\n",
        "weather_data = get_weather(city_name)\n",
        "\n",
        "# Display results\n",
        "if isinstance(weather_data, dict):\n",
        "    print(\"\\nWeather Details:\")\n",
        "    for key, value in weather_data.items():\n",
        "        print(f\"{key}: {value}\")\n",
        "else:\n",
        "    print(weather_data)\n"
      ]
    }
  ]
}