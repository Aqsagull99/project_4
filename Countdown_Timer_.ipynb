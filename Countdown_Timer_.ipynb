{
  "nbformat": 4,
  "nbformat_minor": 0,
  "metadata": {
    "colab": {
      "provenance": [],
      "authorship_tag": "ABX9TyPcTFKD0Qda6HVQLUYGVIi7",
      "include_colab_link": true
    },
    "kernelspec": {
      "name": "python3",
      "display_name": "Python 3"
    },
    "language_info": {
      "name": "python"
    }
  },
  "cells": [
    {
      "cell_type": "markdown",
      "metadata": {
        "id": "view-in-github",
        "colab_type": "text"
      },
      "source": [
        "<a href=\"https://colab.research.google.com/github/Aqsagull99/project_4/blob/main/Countdown_Timer_.ipynb\" target=\"_parent\"><img src=\"https://colab.research.google.com/assets/colab-badge.svg\" alt=\"Open In Colab\"/></a>"
      ]
    },
    {
      "cell_type": "code",
      "source": [
        "import time\n",
        "import sys\n",
        "\n",
        "# ANSI color codes\n",
        "YELLOW = \"\\033[93m\"\n",
        "CYAN = \"\\033[96m\"\n",
        "RED = \"\\033[91m\"\n",
        "RESET = \"\\033[0m\"\n",
        "\n",
        "def countdown(seconds):\n",
        "    print(YELLOW + \"\\n🚀 Countdown Timer Started!\\n\" + RESET)\n",
        "\n",
        "    for remaining in range(seconds, 0, -1):\n",
        "        mins, secs = divmod(remaining, 60)\n",
        "        timer = f\"{mins:02d}:{secs:02d}\"\n",
        "\n",
        "        # Real-time update fix\n",
        "        sys.stdout.write(CYAN + f\"\\r⏳ Time Left: {timer}\" + RESET)\n",
        "        sys.stdout.flush()\n",
        "        time.sleep(1)\n",
        "\n",
        "    # Final message\n",
        "    print(\"\\n\" + RED + \"⏰ Time's Up! 🚀\" + RESET)\n",
        "\n",
        "# Get user input\n",
        "try:\n",
        "    user_time = int(input(YELLOW + \"Enter countdown time in seconds: \" + RESET))\n",
        "    countdown(user_time)\n",
        "except ValueError:\n",
        "    print(RED + \"Invalid input! Please enter a number.\" + RESET)\n"
      ],
      "metadata": {
        "colab": {
          "base_uri": "https://localhost:8080/"
        },
        "id": "5b1huPa2s5af",
        "outputId": "b5df3b88-7357-43cc-cb71-4265e2b87656"
      },
      "execution_count": null,
      "outputs": [
        {
          "output_type": "stream",
          "name": "stdout",
          "text": [
            "\u001b[93mEnter countdown time in seconds: \u001b[0m33\n",
            "\u001b[93m\n",
            "🚀 Countdown Timer Started!\n",
            "\u001b[0m\n",
            "⏳ Time Left: 00:01\u001b[0m\n",
            "\u001b[91m⏰ Time's Up! 🚀\u001b[0m\n"
          ]
        }
      ]
    }
  ]
}