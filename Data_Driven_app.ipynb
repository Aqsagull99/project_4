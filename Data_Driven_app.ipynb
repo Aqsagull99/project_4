{
  "nbformat": 4,
  "nbformat_minor": 0,
  "metadata": {
    "colab": {
      "provenance": [],
      "authorship_tag": "ABX9TyPH0hT81rp5ur2GyXJjFF0Z",
      "include_colab_link": true
    },
    "kernelspec": {
      "name": "python3",
      "display_name": "Python 3"
    },
    "language_info": {
      "name": "python"
    }
  },
  "cells": [
    {
      "cell_type": "markdown",
      "metadata": {
        "id": "view-in-github",
        "colab_type": "text"
      },
      "source": [
        "<a href=\"https://colab.research.google.com/github/Aqsagull99/project_4/blob/main/Data_Driven_app.ipynb\" target=\"_parent\"><img src=\"https://colab.research.google.com/assets/colab-badge.svg\" alt=\"Open In Colab\"/></a>"
      ]
    },
    {
      "cell_type": "markdown",
      "source": [
        "[link text]https://data-driven-app.streamlit.app/"
      ],
      "metadata": {
        "id": "I-Gbqw0CIEcd"
      }
    },
    {
      "cell_type": "code",
      "source": [
        "import streamlit as st\n",
        "import pandas as pd\n",
        "import matplotlib.pyplot as plt\n",
        "\n",
        "# App Title\n",
        "st.title(\"📊 Simple Data-Driven Web App\")\n",
        "\n",
        "# Upload CSV File\n",
        "uploaded_file = st.file_uploader(\"Upload a CSV file\", type=[\"csv\"])\n",
        "\n",
        "if uploaded_file:\n",
        "    df = pd.read_csv(uploaded_file)  # Read CSV\n",
        "    st.write(\"### 📂 Uploaded Data:\")\n",
        "    st.dataframe(df)  # Show Data Table\n",
        "\n",
        "    # Select Column for Analysis\n",
        "    column = st.selectbox(\"Select a column for analysis\", df.columns)\n",
        "\n",
        "    # Show Summary\n",
        "    st.write(f\"### 📌 Summary of {column}:\")\n",
        "    st.write(df[column].describe())\n",
        "\n",
        "    # Plot Histogram\n",
        "    fig, ax = plt.subplots()\n",
        "    df[column].hist(ax=ax, bins=20)\n",
        "    st.pyplot(fig)\n",
        "\n",
        "\n",
        "\n",
        ""
      ],
      "metadata": {
        "id": "bjEAPF2MIhld"
      },
      "execution_count": null,
      "outputs": []
    },
    {
      "cell_type": "code",
      "source": [
        "#requirements.txt file\n",
        "streamlit\n",
        "pandas\n",
        "matplotlib\n",
        "seaborn\n",
        "\n",
        "# install these libraries"
      ],
      "metadata": {
        "id": "vmMl1U2oInRi"
      },
      "execution_count": 1,
      "outputs": []
    }
  ]
}