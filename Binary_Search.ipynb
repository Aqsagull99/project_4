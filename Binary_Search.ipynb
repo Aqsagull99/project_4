{
  "nbformat": 4,
  "nbformat_minor": 0,
  "metadata": {
    "colab": {
      "provenance": [],
      "authorship_tag": "ABX9TyNjGFc5+1lT3+WZ2vohhkK5",
      "include_colab_link": true
    },
    "kernelspec": {
      "name": "python3",
      "display_name": "Python 3"
    },
    "language_info": {
      "name": "python"
    }
  },
  "cells": [
    {
      "cell_type": "markdown",
      "metadata": {
        "id": "view-in-github",
        "colab_type": "text"
      },
      "source": [
        "<a href=\"https://colab.research.google.com/github/Aqsagull99/project_4/blob/main/Binary_Search.ipynb\" target=\"_parent\"><img src=\"https://colab.research.google.com/assets/colab-badge.svg\" alt=\"Open In Colab\"/></a>"
      ]
    },
    {
      "cell_type": "code",
      "source": [
        "def binary_search(arr, target):\n",
        "    left, right = 0, len(arr) - 1\n",
        "    steps = 0  # Track the number of steps\n",
        "    while left <= right:\n",
        "        mid = (left + right) // 2\n",
        "        steps += 1\n",
        "        if arr[mid] == target:\n",
        "            return mid, steps  # Return index and steps taken\n",
        "        elif arr[mid] < target:\n",
        "            left = mid + 1  # Search right half\n",
        "        else:\n",
        "            right = mid - 1  # Search left half\n",
        "    return -1, steps  # Target not found\n",
        "\n",
        "def get_user_input():\n",
        "    try:\n",
        "        arr = list(map(int, input(\"Enter sorted numbers separated by space: \").split()))\n",
        "        target = int(input(\"Enter target number: \"))\n",
        "        arr.sort()  # Ensure the array is sorted\n",
        "        return arr, target\n",
        "    except ValueError:\n",
        "        print(\"Invalid input. Please enter numbers only.\")\n",
        "        return None, None\n",
        "\n",
        "# Run binary search interactively in Colab\n",
        "arr, target = get_user_input()\n",
        "\n",
        "if arr is not None and target is not None:\n",
        "    result, steps = binary_search(arr, target)\n",
        "    if result != -1:\n",
        "        print(f\"Target {target} found at index {result} in sorted array {arr} after {steps} steps.\")\n",
        "    else:\n",
        "        print(f\"Target {target} not found in array {arr} after {steps} steps.\")\n"
      ],
      "metadata": {
        "colab": {
          "base_uri": "https://localhost:8080/"
        },
        "id": "ubJN6Fcw9bbD",
        "outputId": "6a92b88d-a6f1-46d9-b21b-feb035131992"
      },
      "execution_count": 6,
      "outputs": [
        {
          "output_type": "stream",
          "name": "stdout",
          "text": [
            "Enter sorted numbers separated by space: 3 6 8 9 \n",
            "Enter target number: 9\n",
            "Target 9 found at index 3 in sorted array [3, 6, 8, 9] after 3 steps.\n"
          ]
        }
      ]
    }
  ]
}