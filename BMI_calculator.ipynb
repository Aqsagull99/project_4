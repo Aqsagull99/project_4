{
  "nbformat": 4,
  "nbformat_minor": 0,
  "metadata": {
    "colab": {
      "provenance": [],
      "authorship_tag": "ABX9TyMDy5NuSiaKgmK7AtwH1o24",
      "include_colab_link": true
    },
    "kernelspec": {
      "name": "python3",
      "display_name": "Python 3"
    },
    "language_info": {
      "name": "python"
    }
  },
  "cells": [
    {
      "cell_type": "markdown",
      "metadata": {
        "id": "view-in-github",
        "colab_type": "text"
      },
      "source": [
        "<a href=\"https://colab.research.google.com/github/Aqsagull99/project_4/blob/main/BMI_calculator.ipynb\" target=\"_parent\"><img src=\"https://colab.research.google.com/assets/colab-badge.svg\" alt=\"Open In Colab\"/></a>"
      ]
    },
    {
      "cell_type": "markdown",
      "source": [
        "[link text](https://bmicalculator-hxkkknqmmcm6snve527rkz.streamlit.app/)\n"
      ],
      "metadata": {
        "id": "wTrX7MaJYmej"
      }
    },
    {
      "cell_type": "code",
      "source": [
        "import streamlit as st\n",
        "import matplotlib.pyplot as plt\n",
        "import datetime\n",
        "import json\n",
        "\n",
        "# App Config\n",
        "st.set_page_config(page_title=\"BMI & Health Analyzer\", page_icon=\"⚖️\", layout=\"wide\")\n",
        "\n",
        "# Sidebar\n",
        "st.sidebar.header(\"⚙️ Settings\")\n",
        "unit = st.sidebar.radio(\"Select Unit\", (\"Metric (kg, cm)\", \"Imperial (lbs, inches)\"))\n",
        "\n",
        "# Theme Colors\n",
        "theme = st.sidebar.radio(\"Select Theme\", (\"Green & Purple\", \"Blue & Orange\"))\n",
        "colors = {\"Green & Purple\": (\"#6A0572\", \"#00B140\"), \"Blue & Orange\": (\"#1E3D59\", \"#FF6B35\")}\n",
        "primary_color, accent_color = colors[theme]\n",
        "\n",
        "# Input Fields\n",
        "col1, col2 = st.columns(2)\n",
        "with col1:\n",
        "    weight = st.number_input(\"Enter your weight\", min_value=10.0, max_value=600.0, step=0.1)\n",
        "    if unit == \"Imperial (lbs, inches)\":\n",
        "        weight *= 0.453592  # Convert lbs to kg\n",
        "with col2:\n",
        "    height = st.number_input(\"Enter your height\", min_value=50.0, max_value=250.0, step=0.1)\n",
        "    if unit == \"Imperial (lbs, inches)\":\n",
        "        height *= 0.0254  # Convert inches to meters\n",
        "    else:\n",
        "        height /= 100  # Convert cm to meters\n",
        "\n",
        "# Calculate BMI\n",
        "if st.button(\"Calculate BMI\", key=\"bmi_calc\"):\n",
        "    if height > 0 and weight > 0:\n",
        "        bmi = round(weight / (height ** 2), 2)\n",
        "        category = \"\"\n",
        "        if bmi < 18.5:\n",
        "            category = \"Underweight 😟\"\n",
        "        elif 18.5 <= bmi < 24.9:\n",
        "            category = \"Normal ✅\"\n",
        "        elif 25 <= bmi < 29.9:\n",
        "            category = \"Overweight ⚠️\"\n",
        "        else:\n",
        "            category = \"Obese 🚨\"\n",
        "\n",
        "        # Show Result\n",
        "        st.markdown(f\"\"\"\n",
        "        <div style='text-align: center; background: {primary_color}; padding: 10px; border-radius: 10px; color: white;'>\n",
        "            <h2>Your BMI: {bmi}</h2>\n",
        "            <h3>{category}</h3>\n",
        "        </div>\n",
        "        \"\"\", unsafe_allow_html=True)\n",
        "\n",
        "        # Save BMI History\n",
        "        history = st.session_state.get(\"bmi_history\", [])\n",
        "        history.append({\"date\": str(datetime.date.today()), \"bmi\": bmi})\n",
        "        st.session_state[\"bmi_history\"] = history\n",
        "\n",
        "# Show BMI History\n",
        "if \"bmi_history\" in st.session_state and len(st.session_state[\"bmi_history\"]) > 1:\n",
        "    st.subheader(\"📊 BMI History\")\n",
        "    fig, ax = plt.subplots()\n",
        "    dates = [entry[\"date\"] for entry in st.session_state[\"bmi_history\"]]\n",
        "    values = [entry[\"bmi\"] for entry in st.session_state[\"bmi_history\"]]\n",
        "    ax.plot(dates, values, marker=\"o\", color=primary_color)\n",
        "    ax.set_xlabel(\"Date\")\n",
        "    ax.set_ylabel(\"BMI\")\n",
        "    ax.set_title(\"BMI Progress Over Time\")\n",
        "    st.pyplot(fig)\n",
        "\n",
        "# Health Insights\n",
        "st.sidebar.subheader(\"💡 Health Insights\")\n",
        "bmr = round(10 * weight + 6.25 * (height * 100) - 5 * 25 + 5, 2)  # Mifflin St Jeor Formula\n",
        "st.sidebar.write(f\"**Estimated BMR:** {bmr} Calories/day\")\n",
        "st.sidebar.write(f\"**Ideal Weight Range:** {round(18.5 * height**2, 2)}kg - {round(24.9 * height**2, 2)}kg\")\n",
        "st.sidebar.write(\"**Body Fat Estimate:** BMI - Age Factor\")\n",
        "\n",
        "# Footer\n",
        "st.markdown(f\"\"\"\n",
        "<hr>\n",
        "<center><b>Made with ❤️ by Aqsa</b></center>\n",
        "\"\"\", unsafe_allow_html=True)\n",
        "\n",
        "\n",
        "\n",
        "\n"
      ],
      "metadata": {
        "id": "_SOScrF5bEdO"
      },
      "execution_count": null,
      "outputs": []
    }
  ]
}